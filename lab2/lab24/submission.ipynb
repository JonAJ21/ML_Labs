{
 "cells": [
  {
   "cell_type": "code",
   "execution_count": 183,
   "metadata": {},
   "outputs": [],
   "source": [
    "import pandas as pd\n",
    "import numpy as np\n",
    "import matplotlib.pyplot as plt\n",
    "import seaborn as sns\n",
    "sns.set(font_scale=1.3, palette='Set2')\n",
    "\n",
    "from sklearn.model_selection import train_test_split\n",
    "from sklearn.preprocessing import OneHotEncoder\n",
    "from sklearn.linear_model import LinearRegression\n",
    "from sklearn import metrics"
   ]
  },
  {
   "cell_type": "code",
   "execution_count": 184,
   "metadata": {},
   "outputs": [],
   "source": [
    "df = pd.read_csv(\"train.csv\")"
   ]
  },
  {
   "cell_type": "code",
   "execution_count": 185,
   "metadata": {},
   "outputs": [
    {
     "data": {
      "text/html": [
       "<div>\n",
       "<style scoped>\n",
       "    .dataframe tbody tr th:only-of-type {\n",
       "        vertical-align: middle;\n",
       "    }\n",
       "\n",
       "    .dataframe tbody tr th {\n",
       "        vertical-align: top;\n",
       "    }\n",
       "\n",
       "    .dataframe thead th {\n",
       "        text-align: right;\n",
       "    }\n",
       "</style>\n",
       "<table border=\"1\" class=\"dataframe\">\n",
       "  <thead>\n",
       "    <tr style=\"text-align: right;\">\n",
       "      <th></th>\n",
       "      <th>Unnamed: 0</th>\n",
       "      <th>clicks</th>\n",
       "      <th>likes</th>\n",
       "      <th>buys</th>\n",
       "      <th>4xx_errors</th>\n",
       "      <th>5xx_errors</th>\n",
       "      <th>complaints_count</th>\n",
       "      <th>average_dwelltime</th>\n",
       "      <th>source_attractiveness</th>\n",
       "      <th>date_of_registration</th>\n",
       "    </tr>\n",
       "    <tr>\n",
       "      <th>category</th>\n",
       "      <th></th>\n",
       "      <th></th>\n",
       "      <th></th>\n",
       "      <th></th>\n",
       "      <th></th>\n",
       "      <th></th>\n",
       "      <th></th>\n",
       "      <th></th>\n",
       "      <th></th>\n",
       "      <th></th>\n",
       "    </tr>\n",
       "  </thead>\n",
       "  <tbody>\n",
       "    <tr>\n",
       "      <th>ecom</th>\n",
       "      <td>2452</td>\n",
       "      <td>2360</td>\n",
       "      <td>2336</td>\n",
       "      <td>2452</td>\n",
       "      <td>2452</td>\n",
       "      <td>2452</td>\n",
       "      <td>2284</td>\n",
       "      <td>2452</td>\n",
       "      <td>2452</td>\n",
       "      <td>2452</td>\n",
       "    </tr>\n",
       "    <tr>\n",
       "      <th>information_source</th>\n",
       "      <td>3934</td>\n",
       "      <td>3815</td>\n",
       "      <td>3759</td>\n",
       "      <td>3934</td>\n",
       "      <td>3934</td>\n",
       "      <td>3934</td>\n",
       "      <td>3722</td>\n",
       "      <td>3934</td>\n",
       "      <td>3934</td>\n",
       "      <td>3934</td>\n",
       "    </tr>\n",
       "    <tr>\n",
       "      <th>news</th>\n",
       "      <td>816</td>\n",
       "      <td>779</td>\n",
       "      <td>774</td>\n",
       "      <td>816</td>\n",
       "      <td>816</td>\n",
       "      <td>816</td>\n",
       "      <td>767</td>\n",
       "      <td>816</td>\n",
       "      <td>816</td>\n",
       "      <td>816</td>\n",
       "    </tr>\n",
       "    <tr>\n",
       "      <th>porn</th>\n",
       "      <td>383</td>\n",
       "      <td>370</td>\n",
       "      <td>362</td>\n",
       "      <td>383</td>\n",
       "      <td>383</td>\n",
       "      <td>383</td>\n",
       "      <td>360</td>\n",
       "      <td>383</td>\n",
       "      <td>383</td>\n",
       "      <td>383</td>\n",
       "    </tr>\n",
       "    <tr>\n",
       "      <th>social</th>\n",
       "      <td>415</td>\n",
       "      <td>403</td>\n",
       "      <td>393</td>\n",
       "      <td>415</td>\n",
       "      <td>415</td>\n",
       "      <td>415</td>\n",
       "      <td>394</td>\n",
       "      <td>415</td>\n",
       "      <td>415</td>\n",
       "      <td>415</td>\n",
       "    </tr>\n",
       "  </tbody>\n",
       "</table>\n",
       "</div>"
      ],
      "text/plain": [
       "                    Unnamed: 0  clicks  likes  buys  4xx_errors  5xx_errors  \\\n",
       "category                                                                      \n",
       "ecom                      2452    2360   2336  2452        2452        2452   \n",
       "information_source        3934    3815   3759  3934        3934        3934   \n",
       "news                       816     779    774   816         816         816   \n",
       "porn                       383     370    362   383         383         383   \n",
       "social                     415     403    393   415         415         415   \n",
       "\n",
       "                    complaints_count  average_dwelltime  \\\n",
       "category                                                  \n",
       "ecom                            2284               2452   \n",
       "information_source              3722               3934   \n",
       "news                             767                816   \n",
       "porn                             360                383   \n",
       "social                           394                415   \n",
       "\n",
       "                    source_attractiveness  date_of_registration  \n",
       "category                                                         \n",
       "ecom                                 2452                  2452  \n",
       "information_source                   3934                  3934  \n",
       "news                                  816                   816  \n",
       "porn                                  383                   383  \n",
       "social                                415                   415  "
      ]
     },
     "execution_count": 185,
     "metadata": {},
     "output_type": "execute_result"
    }
   ],
   "source": [
    "df.groupby(['category']).count()"
   ]
  },
  {
   "cell_type": "markdown",
   "metadata": {},
   "source": [
    "### Подготовим данные"
   ]
  },
  {
   "cell_type": "code",
   "execution_count": 186,
   "metadata": {},
   "outputs": [],
   "source": [
    "# Заметим, что первая колонка 'Unnamed: 0' соответствует колонке ID. \n",
    "# Переименуем её сопоставим индексы DataFrame этой колонке\n",
    "df.rename(columns={'Unnamed: 0' : 'ID'}, inplace=True)\n",
    "df.set_index('ID',inplace=True)"
   ]
  },
  {
   "cell_type": "code",
   "execution_count": 187,
   "metadata": {},
   "outputs": [
    {
     "name": "stdout",
     "output_type": "stream",
     "text": [
      "<class 'pandas.core.frame.DataFrame'>\n",
      "Index: 8000 entries, 6622 to 9289\n",
      "Data columns (total 10 columns):\n",
      " #   Column                 Non-Null Count  Dtype  \n",
      "---  ------                 --------------  -----  \n",
      " 0   category               8000 non-null   object \n",
      " 1   clicks                 7727 non-null   float64\n",
      " 2   likes                  7624 non-null   float64\n",
      " 3   buys                   8000 non-null   int64  \n",
      " 4   4xx_errors             8000 non-null   int64  \n",
      " 5   5xx_errors             8000 non-null   int64  \n",
      " 6   complaints_count       7116 non-null   float64\n",
      " 7   average_dwelltime      8000 non-null   float64\n",
      " 8   source_attractiveness  8000 non-null   float64\n",
      " 9   age                    8000 non-null   float64\n",
      "dtypes: float64(6), int64(3), object(1)\n",
      "memory usage: 687.5+ KB\n"
     ]
    }
   ],
   "source": [
    "df['complaints_count'] = pd.to_numeric(df['complaints_count'], errors='coerce')\n",
    "\n",
    "df['date_of_registration'] = pd.to_datetime(df['date_of_registration'])\n",
    "df['age'] = (pd.Timestamp('2024-10-15') - df['date_of_registration']) / pd.Timedelta(days=365)\n",
    "\n",
    "df = df.drop(['date_of_registration'], axis = 1)\n",
    "\n",
    "df.info()"
   ]
  },
  {
   "cell_type": "code",
   "execution_count": 188,
   "metadata": {},
   "outputs": [
    {
     "name": "stdout",
     "output_type": "stream",
     "text": [
      "<class 'pandas.core.frame.DataFrame'>\n",
      "Index: 8000 entries, 6622 to 9289\n",
      "Data columns (total 10 columns):\n",
      " #   Column                 Non-Null Count  Dtype  \n",
      "---  ------                 --------------  -----  \n",
      " 0   category               8000 non-null   object \n",
      " 1   clicks                 8000 non-null   float64\n",
      " 2   likes                  8000 non-null   float64\n",
      " 3   buys                   8000 non-null   int64  \n",
      " 4   4xx_errors             8000 non-null   int64  \n",
      " 5   5xx_errors             8000 non-null   int64  \n",
      " 6   complaints_count       8000 non-null   float64\n",
      " 7   average_dwelltime      8000 non-null   float64\n",
      " 8   source_attractiveness  8000 non-null   float64\n",
      " 9   age                    8000 non-null   float64\n",
      "dtypes: float64(6), int64(3), object(1)\n",
      "memory usage: 687.5+ KB\n"
     ]
    }
   ],
   "source": [
    "cleared_df = df.copy(deep = True)\n",
    "cleared_df.fillna(cleared_df.groupby(['category']).transform('median'), inplace=True)\n",
    "#cleared_df.dropna(inplace=True)\n",
    "cleared_df.info()"
   ]
  },
  {
   "cell_type": "code",
   "execution_count": 189,
   "metadata": {},
   "outputs": [
    {
     "name": "stdout",
     "output_type": "stream",
     "text": [
      "<class 'pandas.core.frame.DataFrame'>\n",
      "Index: 8000 entries, 6622 to 9289\n",
      "Data columns (total 10 columns):\n",
      " #   Column                 Non-Null Count  Dtype  \n",
      "---  ------                 --------------  -----  \n",
      " 0   category               8000 non-null   object \n",
      " 1   clicks                 8000 non-null   int64  \n",
      " 2   likes                  8000 non-null   int64  \n",
      " 3   buys                   8000 non-null   int64  \n",
      " 4   4xx_errors             8000 non-null   int64  \n",
      " 5   5xx_errors             8000 non-null   int64  \n",
      " 6   complaints_count       8000 non-null   int64  \n",
      " 7   average_dwelltime      8000 non-null   float64\n",
      " 8   source_attractiveness  8000 non-null   float64\n",
      " 9   age                    8000 non-null   float64\n",
      "dtypes: float64(3), int64(6), object(1)\n",
      "memory usage: 687.5+ KB\n"
     ]
    }
   ],
   "source": [
    "cleared_df['clicks'] = cleared_df['clicks'].astype('int64')\n",
    "cleared_df['likes'] = cleared_df['likes'].astype('int64')\n",
    "cleared_df['buys'] = cleared_df['buys'].astype('int64')\n",
    "cleared_df['complaints_count'] = cleared_df['complaints_count'].astype('int64')\n",
    "\n",
    "cleared_df.info()"
   ]
  },
  {
   "cell_type": "code",
   "execution_count": 190,
   "metadata": {},
   "outputs": [],
   "source": [
    "# def clear_emissions(df, categories, real_columns):\n",
    "#     temp_df = df.copy(deep=True)\n",
    "#     cleared_df = pd.DataFrame()\n",
    "#     for category in categories:\n",
    "#         category_df = temp_df[temp_df['category'] == category]\n",
    "#         for column in real_columns:\n",
    "#             q1 = category_df[column].quantile(0.25)\n",
    "#             q3 = category_df[column].quantile(0.75)\n",
    "#             iqr = q3 - q1\n",
    "            \n",
    "#             without_emission_df_mean = category_df[column][(category_df[column] < q3 + 1.5 * iqr) & (category_df[column] > q1 - 1.5 * iqr)].mean()\n",
    "#             category_df.loc[(category_df[column] >= q3 + 1.5 * iqr) & (category_df[column] <= q1 - 1.5 * iqr), column] = without_emission_df_mean\n",
    "#         cleared_df = pd.concat([cleared_df, category_df])\n",
    "#     return cleared_df\n",
    "\n",
    "# cleared_df = clear_emissions(\n",
    "#     cleared_df,\n",
    "#     df['category'].unique(),\n",
    "#     ['clicks', 'likes', 'average_dwelltime', 'age']\n",
    "# )"
   ]
  },
  {
   "cell_type": "markdown",
   "metadata": {},
   "source": [
    "### Начинаем тренировать модель"
   ]
  },
  {
   "cell_type": "code",
   "execution_count": 191,
   "metadata": {},
   "outputs": [],
   "source": [
    "def make_fit_model(data, target):\n",
    "    X_train, X_test, Y_train, Y_test = train_test_split(\n",
    "        data.drop(target, axis='columns'),\n",
    "        data[target],\n",
    "        test_size = 0.2,\n",
    "        shuffle=True\n",
    "    )\n",
    "    model = LinearRegression(fit_intercept=True)\n",
    "    model.fit(X_train, Y_train)\n",
    "    return (model, X_test, Y_test)\n",
    "    "
   ]
  },
  {
   "cell_type": "code",
   "execution_count": 192,
   "metadata": {},
   "outputs": [
    {
     "data": {
      "text/html": [
       "<div>\n",
       "<style scoped>\n",
       "    .dataframe tbody tr th:only-of-type {\n",
       "        vertical-align: middle;\n",
       "    }\n",
       "\n",
       "    .dataframe tbody tr th {\n",
       "        vertical-align: top;\n",
       "    }\n",
       "\n",
       "    .dataframe thead th {\n",
       "        text-align: right;\n",
       "    }\n",
       "</style>\n",
       "<table border=\"1\" class=\"dataframe\">\n",
       "  <thead>\n",
       "    <tr style=\"text-align: right;\">\n",
       "      <th></th>\n",
       "      <th>category</th>\n",
       "      <th>clicks</th>\n",
       "      <th>likes</th>\n",
       "      <th>buys</th>\n",
       "      <th>4xx_errors</th>\n",
       "      <th>5xx_errors</th>\n",
       "      <th>complaints_count</th>\n",
       "      <th>average_dwelltime</th>\n",
       "      <th>source_attractiveness</th>\n",
       "      <th>age</th>\n",
       "    </tr>\n",
       "    <tr>\n",
       "      <th>ID</th>\n",
       "      <th></th>\n",
       "      <th></th>\n",
       "      <th></th>\n",
       "      <th></th>\n",
       "      <th></th>\n",
       "      <th></th>\n",
       "      <th></th>\n",
       "      <th></th>\n",
       "      <th></th>\n",
       "      <th></th>\n",
       "    </tr>\n",
       "  </thead>\n",
       "  <tbody>\n",
       "    <tr>\n",
       "      <th>6622</th>\n",
       "      <td>ecom</td>\n",
       "      <td>6488536</td>\n",
       "      <td>277836</td>\n",
       "      <td>0</td>\n",
       "      <td>82221</td>\n",
       "      <td>0</td>\n",
       "      <td>0</td>\n",
       "      <td>18.450527</td>\n",
       "      <td>0.461750</td>\n",
       "      <td>4.485836</td>\n",
       "    </tr>\n",
       "    <tr>\n",
       "      <th>5505</th>\n",
       "      <td>ecom</td>\n",
       "      <td>3060369</td>\n",
       "      <td>0</td>\n",
       "      <td>1945683</td>\n",
       "      <td>51293</td>\n",
       "      <td>0</td>\n",
       "      <td>1790</td>\n",
       "      <td>8.586621</td>\n",
       "      <td>0.640110</td>\n",
       "      <td>2.225457</td>\n",
       "    </tr>\n",
       "    <tr>\n",
       "      <th>1176</th>\n",
       "      <td>ecom</td>\n",
       "      <td>31677060</td>\n",
       "      <td>8760379</td>\n",
       "      <td>0</td>\n",
       "      <td>924098</td>\n",
       "      <td>0</td>\n",
       "      <td>8519</td>\n",
       "      <td>8.066347</td>\n",
       "      <td>0.080541</td>\n",
       "      <td>0.653280</td>\n",
       "    </tr>\n",
       "    <tr>\n",
       "      <th>9772</th>\n",
       "      <td>ecom</td>\n",
       "      <td>1695855</td>\n",
       "      <td>0</td>\n",
       "      <td>1601683</td>\n",
       "      <td>78271</td>\n",
       "      <td>0</td>\n",
       "      <td>1171</td>\n",
       "      <td>9.834370</td>\n",
       "      <td>0.757402</td>\n",
       "      <td>1.265828</td>\n",
       "    </tr>\n",
       "    <tr>\n",
       "      <th>3492</th>\n",
       "      <td>ecom</td>\n",
       "      <td>1726730</td>\n",
       "      <td>1022561</td>\n",
       "      <td>548138</td>\n",
       "      <td>14895</td>\n",
       "      <td>18118</td>\n",
       "      <td>3668</td>\n",
       "      <td>5.436714</td>\n",
       "      <td>0.476799</td>\n",
       "      <td>1.321715</td>\n",
       "    </tr>\n",
       "    <tr>\n",
       "      <th>...</th>\n",
       "      <td>...</td>\n",
       "      <td>...</td>\n",
       "      <td>...</td>\n",
       "      <td>...</td>\n",
       "      <td>...</td>\n",
       "      <td>...</td>\n",
       "      <td>...</td>\n",
       "      <td>...</td>\n",
       "      <td>...</td>\n",
       "      <td>...</td>\n",
       "    </tr>\n",
       "    <tr>\n",
       "      <th>6181</th>\n",
       "      <td>ecom</td>\n",
       "      <td>4146772</td>\n",
       "      <td>4666283</td>\n",
       "      <td>6127488</td>\n",
       "      <td>460792</td>\n",
       "      <td>0</td>\n",
       "      <td>4022</td>\n",
       "      <td>20.870676</td>\n",
       "      <td>0.467366</td>\n",
       "      <td>1.060710</td>\n",
       "    </tr>\n",
       "    <tr>\n",
       "      <th>4348</th>\n",
       "      <td>ecom</td>\n",
       "      <td>5042924</td>\n",
       "      <td>1274898</td>\n",
       "      <td>5042924</td>\n",
       "      <td>174661</td>\n",
       "      <td>133724</td>\n",
       "      <td>28645</td>\n",
       "      <td>1.525583</td>\n",
       "      <td>0.904862</td>\n",
       "      <td>2.636767</td>\n",
       "    </tr>\n",
       "    <tr>\n",
       "      <th>4858</th>\n",
       "      <td>ecom</td>\n",
       "      <td>9206957</td>\n",
       "      <td>0</td>\n",
       "      <td>4496093</td>\n",
       "      <td>447953</td>\n",
       "      <td>43524</td>\n",
       "      <td>11756</td>\n",
       "      <td>1.872118</td>\n",
       "      <td>0.501125</td>\n",
       "      <td>2.198716</td>\n",
       "    </tr>\n",
       "    <tr>\n",
       "      <th>699</th>\n",
       "      <td>ecom</td>\n",
       "      <td>1465768</td>\n",
       "      <td>158540</td>\n",
       "      <td>247116</td>\n",
       "      <td>12447</td>\n",
       "      <td>560</td>\n",
       "      <td>0</td>\n",
       "      <td>5.109422</td>\n",
       "      <td>0.082981</td>\n",
       "      <td>0.157970</td>\n",
       "    </tr>\n",
       "    <tr>\n",
       "      <th>9289</th>\n",
       "      <td>ecom</td>\n",
       "      <td>283836</td>\n",
       "      <td>36945</td>\n",
       "      <td>25495</td>\n",
       "      <td>1379</td>\n",
       "      <td>0</td>\n",
       "      <td>1790</td>\n",
       "      <td>0.557076</td>\n",
       "      <td>-0.000510</td>\n",
       "      <td>0.115210</td>\n",
       "    </tr>\n",
       "  </tbody>\n",
       "</table>\n",
       "<p>2452 rows × 10 columns</p>\n",
       "</div>"
      ],
      "text/plain": [
       "     category    clicks    likes     buys  4xx_errors  5xx_errors  \\\n",
       "ID                                                                  \n",
       "6622     ecom   6488536   277836        0       82221           0   \n",
       "5505     ecom   3060369        0  1945683       51293           0   \n",
       "1176     ecom  31677060  8760379        0      924098           0   \n",
       "9772     ecom   1695855        0  1601683       78271           0   \n",
       "3492     ecom   1726730  1022561   548138       14895       18118   \n",
       "...       ...       ...      ...      ...         ...         ...   \n",
       "6181     ecom   4146772  4666283  6127488      460792           0   \n",
       "4348     ecom   5042924  1274898  5042924      174661      133724   \n",
       "4858     ecom   9206957        0  4496093      447953       43524   \n",
       "699      ecom   1465768   158540   247116       12447         560   \n",
       "9289     ecom    283836    36945    25495        1379           0   \n",
       "\n",
       "      complaints_count  average_dwelltime  source_attractiveness       age  \n",
       "ID                                                                          \n",
       "6622                 0          18.450527               0.461750  4.485836  \n",
       "5505              1790           8.586621               0.640110  2.225457  \n",
       "1176              8519           8.066347               0.080541  0.653280  \n",
       "9772              1171           9.834370               0.757402  1.265828  \n",
       "3492              3668           5.436714               0.476799  1.321715  \n",
       "...                ...                ...                    ...       ...  \n",
       "6181              4022          20.870676               0.467366  1.060710  \n",
       "4348             28645           1.525583               0.904862  2.636767  \n",
       "4858             11756           1.872118               0.501125  2.198716  \n",
       "699                  0           5.109422               0.082981  0.157970  \n",
       "9289              1790           0.557076              -0.000510  0.115210  \n",
       "\n",
       "[2452 rows x 10 columns]"
      ]
     },
     "execution_count": 192,
     "metadata": {},
     "output_type": "execute_result"
    }
   ],
   "source": [
    "ecom_data = cleared_df[cleared_df['category'] == 'ecom'].drop(['category'], axis=1)\n",
    "information_source_data = cleared_df[cleared_df['category'] == 'information_source'].drop(['category'], axis=1)\n",
    "news_data = cleared_df[cleared_df['category'] == 'news'].drop(['category'], axis=1)\n",
    "porn_data = cleared_df[cleared_df['category'] == 'porn'].drop(['category'], axis=1)\n",
    "social_data = cleared_df[cleared_df['category'] == 'social'].drop(['category'], axis=1)\n",
    "cleared_df[cleared_df['category'] == 'ecom']"
   ]
  },
  {
   "cell_type": "code",
   "execution_count": 193,
   "metadata": {},
   "outputs": [],
   "source": [
    "model, X_test, Y_test = make_fit_model(cleared_df.drop(['category'], axis=1), 'source_attractiveness')\n",
    "ecom_model, ecom_X_test, ecom_Y_test = make_fit_model(ecom_data, 'source_attractiveness')\n",
    "information_source_model, information_source_X_test, information_source_Y_test = make_fit_model(information_source_data, 'source_attractiveness')\n",
    "news_model, news_X_test, news_Y_test = make_fit_model(news_data, 'source_attractiveness')\n",
    "porn_model, porn_X_test, porn_Y_test = make_fit_model(porn_data, 'source_attractiveness')\n",
    "social_model, social_X_test, social_Y_test = make_fit_model(social_data, 'source_attractiveness')"
   ]
  },
  {
   "cell_type": "code",
   "execution_count": 194,
   "metadata": {},
   "outputs": [],
   "source": [
    "predicts = model.predict(X_test)\n",
    "ecom_predicts = ecom_model.predict(ecom_X_test)\n",
    "information_source_predicts = information_source_model.predict(information_source_X_test)\n",
    "news_predicts = news_model.predict(news_X_test)\n",
    "porn_predicts = porn_model.predict(porn_X_test)\n",
    "social_predicts = social_model.predict(social_X_test)"
   ]
  },
  {
   "cell_type": "code",
   "execution_count": 195,
   "metadata": {},
   "outputs": [
    {
     "name": "stdout",
     "output_type": "stream",
     "text": [
      "Test predicts:\n"
     ]
    },
    {
     "data": {
      "text/plain": [
       "(0.023326130710716066, 0.10043106542220055, 268.6301954163956)"
      ]
     },
     "execution_count": 195,
     "metadata": {},
     "output_type": "execute_result"
    }
   ],
   "source": [
    "print(\"Test predicts:\")\n",
    "metrics.mean_squared_error(Y_test, predicts), \\\n",
    "metrics.mean_absolute_error(Y_test, predicts), \\\n",
    "metrics.mean_absolute_percentage_error(Y_test, predicts) * 100"
   ]
  },
  {
   "cell_type": "code",
   "execution_count": 196,
   "metadata": {},
   "outputs": [
    {
     "name": "stdout",
     "output_type": "stream",
     "text": [
      "Test ecom predicts:\n"
     ]
    },
    {
     "data": {
      "text/plain": [
       "(0.0365969265169483, 0.14838909592348473, 312.8373653464516)"
      ]
     },
     "execution_count": 196,
     "metadata": {},
     "output_type": "execute_result"
    }
   ],
   "source": [
    "print(\"Test ecom predicts:\")\n",
    "metrics.mean_squared_error(ecom_Y_test, ecom_predicts), \\\n",
    "metrics.mean_absolute_error(ecom_Y_test, ecom_predicts), \\\n",
    "metrics.mean_absolute_percentage_error(ecom_Y_test, ecom_predicts) * 100"
   ]
  },
  {
   "cell_type": "code",
   "execution_count": 197,
   "metadata": {},
   "outputs": [
    {
     "name": "stdout",
     "output_type": "stream",
     "text": [
      "Test information_source predicts:\n"
     ]
    },
    {
     "data": {
      "text/plain": [
       "(0.004126453901882393, 0.050523092778184515, 123.7948085965747)"
      ]
     },
     "execution_count": 197,
     "metadata": {},
     "output_type": "execute_result"
    }
   ],
   "source": [
    "print(\"Test information_source predicts:\")\n",
    "metrics.mean_squared_error(information_source_Y_test, information_source_predicts), \\\n",
    "metrics.mean_absolute_error(information_source_Y_test, information_source_predicts), \\\n",
    "metrics.mean_absolute_percentage_error(information_source_Y_test, information_source_predicts) * 100"
   ]
  },
  {
   "cell_type": "code",
   "execution_count": 198,
   "metadata": {},
   "outputs": [
    {
     "name": "stdout",
     "output_type": "stream",
     "text": [
      "Test news predicts:\n"
     ]
    },
    {
     "data": {
      "text/plain": [
       "(0.004469208105009104, 0.051205183420112876, 78.10716814812298)"
      ]
     },
     "execution_count": 198,
     "metadata": {},
     "output_type": "execute_result"
    }
   ],
   "source": [
    "print(\"Test news predicts:\")\n",
    "metrics.mean_squared_error(news_Y_test, news_predicts), \\\n",
    "metrics.mean_absolute_error(news_Y_test, news_predicts), \\\n",
    "metrics.mean_absolute_percentage_error(news_Y_test, news_predicts) * 100"
   ]
  },
  {
   "cell_type": "code",
   "execution_count": 199,
   "metadata": {},
   "outputs": [
    {
     "name": "stdout",
     "output_type": "stream",
     "text": [
      "Test porn predicts:\n"
     ]
    },
    {
     "data": {
      "text/plain": [
       "(0.004509661709325633, 0.053433316740871414, 84.56194632720415)"
      ]
     },
     "execution_count": 199,
     "metadata": {},
     "output_type": "execute_result"
    }
   ],
   "source": [
    "print(\"Test porn predicts:\")\n",
    "metrics.mean_squared_error(porn_Y_test, porn_predicts), \\\n",
    "metrics.mean_absolute_error(porn_Y_test, porn_predicts), \\\n",
    "metrics.mean_absolute_percentage_error(porn_Y_test, porn_predicts) * 100"
   ]
  },
  {
   "cell_type": "code",
   "execution_count": 200,
   "metadata": {},
   "outputs": [
    {
     "name": "stdout",
     "output_type": "stream",
     "text": [
      "Test social predicts:\n"
     ]
    },
    {
     "data": {
      "text/plain": [
       "(0.003108799931318434, 0.0412302904064251, 137.845766593558)"
      ]
     },
     "execution_count": 200,
     "metadata": {},
     "output_type": "execute_result"
    }
   ],
   "source": [
    "print(\"Test social predicts:\")\n",
    "metrics.mean_squared_error(social_Y_test, social_predicts), \\\n",
    "metrics.mean_absolute_error(social_Y_test, social_predicts), \\\n",
    "metrics.mean_absolute_percentage_error(social_Y_test, social_predicts) * 100"
   ]
  }
 ],
 "metadata": {
  "kernelspec": {
   "display_name": "PythonCourse",
   "language": "python",
   "name": "python3"
  },
  "language_info": {
   "codemirror_mode": {
    "name": "ipython",
    "version": 3
   },
   "file_extension": ".py",
   "mimetype": "text/x-python",
   "name": "python",
   "nbconvert_exporter": "python",
   "pygments_lexer": "ipython3",
   "version": "3.12.4"
  }
 },
 "nbformat": 4,
 "nbformat_minor": 2
}
